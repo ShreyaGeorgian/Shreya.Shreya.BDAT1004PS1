{
 "cells": [
  {
   "cell_type": "markdown",
   "id": "643d3ceb",
   "metadata": {},
   "source": [
    "Question 1:"
   ]
  },
  {
   "cell_type": "markdown",
   "id": "273436ee",
   "metadata": {},
   "source": [
    "Data Type for each one is as follows-\n",
    " \n",
    " 5 = Integer\n",
    " 5.0 = Double\n",
    " 5 > 1 = boolean\n",
    " '5' = Character\n",
    " 5 * 2 = Integer\n",
    " '5' * 2 = Integer\n",
    " '5' + '2' = Character\n",
    " 5/2 = Float\n",
    " 5 % 2 = Integer \n",
    " {5,2,1} = Array of int type\n",
    " 5 == 3 = Boolean\n",
    " Pi = Double"
   ]
  },
  {
   "cell_type": "markdown",
   "id": "b72f93ed",
   "metadata": {},
   "source": [
    "Question 2:"
   ]
  },
  {
   "cell_type": "code",
   "execution_count": 128,
   "id": "f3d1d83c",
   "metadata": {},
   "outputs": [
    {
     "name": "stdout",
     "output_type": "stream",
     "text": [
      "34\n",
      "True\n",
      "Longest String is :Bababadalgharaghtakamminarronnkonn\n",
      "Longest String is :Supercalifragilisticexpialidocious\n",
      "Bartok\n",
      "Buxtehude\n"
     ]
    }
   ],
   "source": [
    "  string strName = \"Supercalifragilisticexpialidocious\";\n",
    "  int lengthString1=strName.Length; \n",
    "  String subStr = \"ice\";\n",
    "  \n",
    "  //A\n",
    "  Console.Write(lengthString1);\n",
    "  Console.Write(\"\\n\");\n",
    "  \n",
    "  //B\n",
    "  Console.WriteLine(strName.Contains(subStr));\n",
    "  \n",
    "  //C\n",
    "   string s2 = \"Honorificabilitudinitatibus\";\n",
    "   string s3 = \"Bababadalgharaghtakamminarronnkonn\";\n",
    "   int lengthString2 = s2.Length;\n",
    "   int lengthString3 = s3.Length;\n",
    "   \n",
    "   if(lengthString1>lengthString2)\n",
    "   {\n",
    "      if(lengthString1>lengthString3)\n",
    "      {\n",
    "        Console.WriteLine(\"Longest String is :\" +strName);\n",
    "      }\n",
    "      else\n",
    "      {\n",
    "            Console.WriteLine(\"Longest String is :\" +s3);\n",
    "      }\n",
    "   \n",
    "   }\n",
    "   else\n",
    "   {\n",
    "         if(lengthString2>lengthString3)\n",
    "         {\n",
    "              Console.WriteLine(\"Longest String is :\" +s2);\n",
    "         }\n",
    "         else{\n",
    "              Console.WriteLine(\"Longest String is :\" +s3);\n",
    "         }\n",
    "   }\n",
    "    \n",
    "   \n",
    "   if (strName.Length >= s2.Length && strName.Length >= s3.Length)\n",
    "            {\n",
    "                    Console.WriteLine(\"Longest String is :\" +strName);                \n",
    "            }\n",
    "            else if (s2.Length >= s3.Length)\n",
    "            {\n",
    "                Console.WriteLine(\"Longest String is :\" +s2);\n",
    "            }\n",
    "            else\n",
    "            {\n",
    "                Console.WriteLine(\"Longest String is :\" +s3);\n",
    "            }\n",
    "            \n",
    "    //D\n",
    "    SortedSet <string> d = new SortedSet<string>();\n",
    "         d.Add(\"Berlioz\");\n",
    "         d.Add(\"Borodin\");\n",
    "         d.Add(\"Brian\");\n",
    "         d.Add(\"Bartok\");\n",
    "         d.Add(\"Bellini\");\n",
    "         d.Add(\"Buxtehude\");\n",
    "         d.Add(\"Bernstine\");\n",
    "      Console.WriteLine(d.First());\n",
    "      Console.WriteLine(d.Last());\n",
    "        \n",
    "    \n",
    "   \n",
    "   \n",
    "   \n",
    " \n",
    "         "
   ]
  },
  {
   "cell_type": "markdown",
   "id": "3d70c001",
   "metadata": {},
   "source": [
    "Question 3"
   ]
  },
  {
   "cell_type": "code",
   "execution_count": 129,
   "id": "2373df84",
   "metadata": {},
   "outputs": [
    {
     "name": "stdout",
     "output_type": "stream",
     "text": [
      "1.7320508075688772"
     ]
    }
   ],
   "source": [
    "double triangleArea(float x, float y, float z)\n",
    "{\n",
    "   float s = (x+y+z)/2;\n",
    "   return  Math.Sqrt(s*(s-x)*(s-y)*(s-z));\n",
    "}\n",
    "Console.Write(triangleArea(2,2,2));\n"
   ]
  },
  {
   "cell_type": "markdown",
   "id": "dcf6b179",
   "metadata": {},
   "source": [
    "Question 4"
   ]
  },
  {
   "cell_type": "code",
   "execution_count": 130,
   "id": "1c919f1b",
   "metadata": {},
   "outputs": [
    {
     "name": "stdout",
     "output_type": "stream",
     "text": [
      "\n",
      "The Even elements are : \n",
      "42\n",
      "56\n",
      "32\n",
      "\n",
      "The Odd elements are : \n",
      "25\n",
      "47\n"
     ]
    }
   ],
   "source": [
    "int[] intArray = new int[] { 25, 47, 42, 56, 32 };\n",
    "\n",
    "\n",
    " int[] arrTwo = new int[5];\n",
    "         int[] arrThree = new int[5];\n",
    "         int i, j = 0, k = 0;\n",
    "         for (i = 0; i < 5; i++) {\n",
    "            if (intArray[i] % 2 == 0) {\n",
    "               arrTwo[j] = intArray[i];\n",
    "               j++;\n",
    "            } else {\n",
    "               arrThree[k] = intArray[i];\n",
    "               k++;\n",
    "            }\n",
    "         }\n",
    "         Console.Write(\"\\nThe Even elements are : \\n\");\n",
    "         for (i = 0; i < j; i++) {\n",
    "            Console.WriteLine(arrTwo[i]);\n",
    "         }\n",
    "         Console.Write(\"\\nThe Odd elements are : \\n\");;\n",
    "         for (i = 0; i < k; i++) {\n",
    "            Console.WriteLine(arrThree[i]);\n",
    "         }"
   ]
  },
  {
   "cell_type": "markdown",
   "id": "9c42d3e4",
   "metadata": {},
   "source": [
    "Question 5:"
   ]
  },
  {
   "cell_type": "code",
   "execution_count": 116,
   "id": "98748b01",
   "metadata": {},
   "outputs": [
    {
     "name": "stdout",
     "output_type": "stream",
     "text": [
      "True"
     ]
    }
   ],
   "source": [
    "string inside(double x, double y, double x1, double y1, double x2, double y2)\n",
    "{\n",
    "   if (x >= x1 && x <= x2 && y >= y1 && y <= y2) return \"True\";\n",
    "   else return \"False\";\n",
    "   \n",
    "}\n",
    "        Console.Write(inside(1,1,0,0,2,3));\n",
    "    "
   ]
  },
  {
   "cell_type": "code",
   "execution_count": null,
   "id": "60511370",
   "metadata": {},
   "outputs": [],
   "source": []
  }
 ],
 "metadata": {
  "kernelspec": {
   "display_name": ".NET (C#)",
   "language": "C#",
   "name": ".net-csharp"
  },
  "language_info": {
   "file_extension": ".cs",
   "mimetype": "text/x-csharp",
   "name": "C#",
   "pygments_lexer": "csharp",
   "version": "10.0"
  }
 },
 "nbformat": 4,
 "nbformat_minor": 5
}
