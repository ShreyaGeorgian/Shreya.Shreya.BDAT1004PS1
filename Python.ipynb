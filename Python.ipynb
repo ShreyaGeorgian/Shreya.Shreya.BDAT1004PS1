{
 "cells": [
  {
   "cell_type": "markdown",
   "id": "9aa217a5",
   "metadata": {},
   "source": [
    "Question 6:\n",
    "    "
   ]
  },
  {
   "cell_type": "code",
   "execution_count": 60,
   "id": "74d2c421",
   "metadata": {},
   "outputs": [
    {
     "name": "stdout",
     "output_type": "stream",
     "text": [
      "Enter the word : happy\n",
      "appyhay\n"
     ]
    }
   ],
   "source": [
    "vwl = ['a', 'e', 'i', 'o', 'u']\n",
    "def pig():\n",
    "    wordInput = input('Enter the word : ')\n",
    "    if wordInput[0].lower() in vwl:\n",
    "        print(wordInput+'way')\n",
    "    else:\n",
    "        print(wordInput[1:]+wordInput[0]+'ay')\n",
    "        \n",
    "pig()"
   ]
  },
  {
   "cell_type": "markdown",
   "id": "d70161a7",
   "metadata": {},
   "source": [
    "Question 7:"
   ]
  },
  {
   "cell_type": "code",
   "execution_count": 61,
   "id": "6354955d",
   "metadata": {},
   "outputs": [
    {
     "name": "stdout",
     "output_type": "stream",
     "text": [
      "There are 13 patients of blood type AB\n",
      "There are one patients of blood type B\n",
      "There are 15 patients of blood type O\n",
      "There are 15 patients of blood type A\n",
      "There are no patients of blood type OO\n"
     ]
    }
   ],
   "source": [
    "def b1dcount():\n",
    "    bloodGroups = ['A', 'B', 'AB', 'O', 'OO']\n",
    "    count_dict = {};\n",
    "    btFile  = open('bloodtype1.txt' , 'r')\n",
    "    fileName = btFile.read()\n",
    "    data = fileName.split()\n",
    "   # print(data)\n",
    "    for bloodGroup in data:\n",
    "        if bloodGroup in bloodGroups:\n",
    "            if bloodGroup in count_dict:\n",
    "                count_dict[bloodGroup] = count_dict[bloodGroup] + 1\n",
    "            else:\n",
    "                count_dict[bloodGroup] = 1\n",
    "\n",
    "    for bloodGroup in bloodGroups:\n",
    "        if bloodGroup not in count_dict:\n",
    "               count_dict[bloodGroup] = 'no'\n",
    "    \n",
    "    #print (count_dict)\n",
    "    \n",
    "    for bloodGroup in count_dict:\n",
    "         \n",
    "         print(\"There are {} patients of blood type {}\".format( ('one' if count_dict[bloodGroup] == 1 else count_dict[bloodGroup]), bloodGroup))\n",
    "\n",
    "b1dcount()"
   ]
  },
  {
   "cell_type": "markdown",
   "id": "7404fb8c",
   "metadata": {},
   "source": [
    "Question 8:"
   ]
  },
  {
   "cell_type": "code",
   "execution_count": 9,
   "id": "ce5f08c6",
   "metadata": {},
   "outputs": [
    {
     "name": "stdout",
     "output_type": "stream",
     "text": [
      "122.96544\n",
      "1.241401\n"
     ]
    }
   ],
   "source": [
    "def curconv(currency:str,amount:int):\n",
    "    currency_dict = {}\n",
    "    with open('currencies.txt' , 'r') as f_open:\n",
    "        contents = f_open.readlines()\n",
    "    for lines in contents:\n",
    "        currency_rep,rate,_ = lines.split(\"\\t\")\n",
    "        currency_dict[currency_rep]  = float(rate)\n",
    "    return amount*currency_dict[currency]\n",
    "\n",
    "print(curconv('EUR',100))\n",
    "print(curconv('JPY',100))"
   ]
  },
  {
   "cell_type": "markdown",
   "id": "5bddaa18",
   "metadata": {},
   "source": [
    "Question 9:"
   ]
  },
  {
   "cell_type": "markdown",
   "id": "de5126fc",
   "metadata": {},
   "source": [
    "1. TypeError\n",
    "2. IndexError\n",
    "3. ValueError\n",
    "4. NameError\n",
    "5. FileNotFoundError"
   ]
  },
  {
   "cell_type": "markdown",
   "id": "2f22a0f8",
   "metadata": {},
   "source": [
    "Question 10:"
   ]
  },
  {
   "cell_type": "code",
   "execution_count": 29,
   "id": "d9fe1a27",
   "metadata": {},
   "outputs": [
    {
     "data": {
      "text/plain": [
       "[1, 1, 1, 3, 5, 1, 1, 2, 1, 0, 1, 0, 1, 2, 4, 0, 1, 2, 0, 2, 1, 0, 1, 1, 0, 0]"
      ]
     },
     "execution_count": 29,
     "metadata": {},
     "output_type": "execute_result"
    }
   ],
   "source": [
    "def frequencies(string: str):\n",
    "    count_dict = {};\n",
    "    output = [];\n",
    "    letters = 'abcdefghijklmnopqrstuvwxyz'\n",
    "    for chars in string:\n",
    "        if chars in letters:\n",
    "            if chars in count_dict:\n",
    "                count_dict[chars] = count_dict[chars] + 1\n",
    "            else:\n",
    "                count_dict[chars] = 1\n",
    "    for chars in letters:\n",
    "        if chars in count_dict:\n",
    "            output.append(count_dict[chars]);\n",
    "        else:\n",
    "            output.append(0);\n",
    "    \n",
    "    return output\n",
    "\n",
    "frequencies('The quick red fox got bored and went home')\n"
   ]
  },
  {
   "cell_type": "code",
   "execution_count": null,
   "id": "6600d63b",
   "metadata": {},
   "outputs": [],
   "source": []
  }
 ],
 "metadata": {
  "kernelspec": {
   "display_name": "Python 3 (ipykernel)",
   "language": "python",
   "name": "python3"
  },
  "language_info": {
   "codemirror_mode": {
    "name": "ipython",
    "version": 3
   },
   "file_extension": ".py",
   "mimetype": "text/x-python",
   "name": "python",
   "nbconvert_exporter": "python",
   "pygments_lexer": "ipython3",
   "version": "3.9.12"
  }
 },
 "nbformat": 4,
 "nbformat_minor": 5
}
